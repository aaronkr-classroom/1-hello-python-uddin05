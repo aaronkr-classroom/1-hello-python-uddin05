{
 "cells": [
  {
   "cell_type": "markdown",
   "id": "999ff5cc",
   "metadata": {},
   "source": [
    "# hello world\n",
    "\n",
    "## this is uddineatingass\n",
    "\n",
    "##### ml seems hard\n",
    "\n",
    "paragraf boyoooo"
   ]
  },
  {
   "cell_type": "markdown",
   "id": "1ba9c25e",
   "metadata": {},
   "source": [
    " Accomplice? *I'm* gonna tell them the whole thing was your idea. It was a dog. It was a big dog.\n",
    "\n",
    " I'm not wearing **hockey pads**. It's __ends__ here. I seek the means to fight injustice. To turn fear against those who prey on the fearful. Bats frighten me. It's time my enemies shared my dread. Swear to me!\n",
    "\n",
    " 1. I'm\n",
    " 1.  Batman\n",
    " 1. The first\n",
    " 1. time\n",
    "\n",
    "  - I stole\n",
    "  - so\n",
    "  - that\n",
    "   I wouldn't starve, yes. I lost many assumptions about the simple nature of right and wrong. And when I traveled I learned the fear before a crime and the thrill of success. But I never became one of them.\n",
    "\n",
    " My anger outweights my guilt. I seek the means to fight injustice. To turn fear against those who prey on the fearful.\n",
    "\n"
   ]
  },
  {
   "cell_type": "markdown",
   "id": "c6660ebb",
   "metadata": {},
   "source": []
  }
 ],
 "metadata": {
  "language_info": {
   "name": "python"
  }
 },
 "nbformat": 4,
 "nbformat_minor": 5
}
